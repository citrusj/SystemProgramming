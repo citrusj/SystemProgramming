{
  "nbformat": 4,
  "nbformat_minor": 0,
  "metadata": {
    "colab": {
      "name": "p4.ipynb",
      "version": "0.3.2",
      "provenance": []
    },
    "language_info": {
      "codemirror_mode": {
        "name": "ipython",
        "version": 3
      },
      "file_extension": ".py",
      "mimetype": "text/x-python",
      "name": "python",
      "nbconvert_exporter": "python",
      "pygments_lexer": "ipython3",
      "version": "3.6.4"
    },
    "kernelspec": {
      "display_name": "Python 3",
      "language": "python",
      "name": "python3"
    }
  },
  "cells": [
    {
      "cell_type": "code",
      "metadata": {
        "id": "eF8Q2EDgS2G3",
        "colab_type": "code",
        "colab": {
          "base_uri": "https://localhost:8080/",
          "height": 140
        },
        "outputId": "77ac79f0-5073-49ea-805b-f156417abec5"
      },
      "source": [
        "import numpy as np\n",
        "size = int(input())\n",
        "size2 = int(size/2)\n",
        "A = np.round(np.random.random((size,size)),2)\n",
        "B = np.zeros((size2,size2))\n",
        "for i in range(size2):\n",
        "    for j in range(size2):\n",
        "        B[i][j] = np.amax(A[i*2:i*2+2,j*2:j*2+2]) \n",
        "print(A)\n",
        "print(B)\n"
      ],
      "execution_count": 6,
      "outputs": [
        {
          "output_type": "stream",
          "text": [
            "4\n",
            "[[0.88 0.48 0.88 0.58]\n",
            " [0.87 0.3  0.63 0.1 ]\n",
            " [0.85 0.37 0.89 0.  ]\n",
            " [0.44 0.27 0.42 0.13]]\n",
            "[[0.88 0.88]\n",
            " [0.85 0.89]]\n"
          ],
          "name": "stdout"
        }
      ]
    },
    {
      "cell_type": "code",
      "metadata": {
        "id": "gN4d_dS6S2HO",
        "colab_type": "code",
        "colab": {}
      },
      "source": [
        ""
      ],
      "execution_count": 0,
      "outputs": []
    },
    {
      "cell_type": "code",
      "metadata": {
        "id": "1hs2NUTKTN4V",
        "colab_type": "code",
        "colab": {}
      },
      "source": [
        ""
      ],
      "execution_count": 0,
      "outputs": []
    }
  ]
}