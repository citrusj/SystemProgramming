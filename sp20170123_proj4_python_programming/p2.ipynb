{
  "nbformat": 4,
  "nbformat_minor": 0,
  "metadata": {
    "colab": {
      "name": "p2.ipynb",
      "version": "0.3.2",
      "provenance": []
    },
    "language_info": {
      "codemirror_mode": {
        "name": "ipython",
        "version": 3
      },
      "file_extension": ".py",
      "mimetype": "text/x-python",
      "name": "python",
      "nbconvert_exporter": "python",
      "pygments_lexer": "ipython3",
      "version": "3.6.4"
    },
    "kernelspec": {
      "display_name": "Python 3",
      "language": "python",
      "name": "python3"
    }
  },
  "cells": [
    {
      "cell_type": "code",
      "metadata": {
        "id": "4kolxVxAVpeC",
        "colab_type": "code",
        "colab": {}
      },
      "source": [
        "def primdiv(num):\n",
        "    result = set()\n",
        "    for i in range(2,num+1):\n",
        "        if num%i==0:\n",
        "            prim_flag=True\n",
        "            for j in range(2,i):\n",
        "                if i%j==0: \n",
        "                    prim_flag=False\n",
        "                    break\n",
        "            if prim_flag==True: result.add(i)\n",
        "    return result"
      ],
      "execution_count": 0,
      "outputs": []
    },
    {
      "cell_type": "code",
      "metadata": {
        "id": "DgYEtEhlVpeZ",
        "colab_type": "code",
        "outputId": "7fcdc3fa-6af3-4148-9a41-7def32f0be24",
        "colab": {
          "base_uri": "https://localhost:8080/",
          "height": 70
        }
      },
      "source": [
        "A=list(int(i) for i in input().split())\n",
        "B=list(int(i) for i in input().split())\n",
        "result_count=0\n",
        "\n",
        "for i in range(len(A)):\n",
        "    a_primdiv_set = primdiv(A[i])\n",
        "    b_primdiv_set = primdiv(B[i])\n",
        "    if a_primdiv_set == b_primdiv_set: result_count+=1\n",
        "\n",
        "print(result_count)"
      ],
      "execution_count": 2,
      "outputs": [
        {
          "output_type": "stream",
          "text": [
            "15 10 3\n",
            "75 30 5\n",
            "1\n"
          ],
          "name": "stdout"
        }
      ]
    },
    {
      "cell_type": "code",
      "metadata": {
        "id": "_U3N4MU_Xh6r",
        "colab_type": "code",
        "colab": {}
      },
      "source": [
        ""
      ],
      "execution_count": 0,
      "outputs": []
    }
  ]
}